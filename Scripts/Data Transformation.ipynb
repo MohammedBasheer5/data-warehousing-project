{
 "cells": [
  {
   "cell_type": "markdown",
   "id": "eae2d8b2",
   "metadata": {},
   "source": [
    "# ⚡"
   ]
  },
  {
   "cell_type": "markdown",
   "id": "f14a3b81",
   "metadata": {},
   "source": [
    "# <font color=blue > Project:  </font>     <font color=red > Data warehouses </font> "
   ]
  },
  {
   "cell_type": "markdown",
   "id": "d3805165",
   "metadata": {},
   "source": [
    "# ⚡"
   ]
  },
  {
   "cell_type": "markdown",
   "id": "f58b6476",
   "metadata": {},
   "source": [
    "# <font color=\"green\">Data Transformation</font>"
   ]
  },
  {
   "cell_type": "markdown",
   "id": "adbc3ab8",
   "metadata": {},
   "source": [
    "____________"
   ]
  },
  {
   "cell_type": "markdown",
   "id": "4252ed30",
   "metadata": {},
   "source": [
    "# <font color=\"blue\">Code</font>\n"
   ]
  },
  {
   "cell_type": "markdown",
   "id": "1fb751c9",
   "metadata": {},
   "source": [
    "__________________________"
   ]
  },
  {
   "cell_type": "markdown",
   "id": "cea82243",
   "metadata": {},
   "source": [
    "# ✍"
   ]
  },
  {
   "cell_type": "markdown",
   "id": "55e4fe31",
   "metadata": {},
   "source": [
    "## <font color=\"orange\">Import necessary libraries </font>\n"
   ]
  },
  {
   "cell_type": "code",
   "execution_count": 1,
   "id": "953e66c5",
   "metadata": {},
   "outputs": [],
   "source": [
    "import pandas as pd"
   ]
  },
  {
   "cell_type": "markdown",
   "id": "6273b039",
   "metadata": {},
   "source": [
    "#### <font color=\"blue\">To verify that the librarys is working properly</font>\n"
   ]
  },
  {
   "cell_type": "code",
   "execution_count": 2,
   "id": "27a2de87",
   "metadata": {},
   "outputs": [
    {
     "name": "stdout",
     "output_type": "stream",
     "text": [
      "['The librarie are working properly']\n"
     ]
    }
   ],
   "source": [
    "print(\"['The librarie are working properly']\")"
   ]
  },
  {
   "cell_type": "markdown",
   "id": "6c0fb512",
   "metadata": {},
   "source": [
    "#### <font color=\"blue\">Read files</font>\n"
   ]
  },
  {
   "cell_type": "code",
   "execution_count": 3,
   "id": "e94def04",
   "metadata": {},
   "outputs": [],
   "source": [
    "import pandas as pd\n",
    "\n",
    "customers_df = pd.read_csv('customers_data.csv')\n",
    "products_df = pd.read_csv('products_data.csv')\n",
    "sales_df = pd.read_csv('sales_data.csv')"
   ]
  },
  {
   "cell_type": "markdown",
   "id": "288d480f",
   "metadata": {},
   "source": [
    "## <font color=\"orange\">Clean and convert each file </font>"
   ]
  },
  {
   "cell_type": "markdown",
   "id": "8daaa909",
   "metadata": {},
   "source": [
    "\n",
    "### <font color=\"blue\">1 - customers_data </font>\n"
   ]
  },
  {
   "cell_type": "code",
   "execution_count": 4,
   "id": "fa4ec026",
   "metadata": {},
   "outputs": [
    {
     "name": "stdout",
     "output_type": "stream",
     "text": [
      "Index(['customer_id', 'customer_name', 'email', 'phone', 'address', 'city',\n",
      "       'country'],\n",
      "      dtype='object')\n"
     ]
    }
   ],
   "source": [
    "print(customers_df.columns)"
   ]
  },
  {
   "cell_type": "code",
   "execution_count": 5,
   "id": "1f7974e0",
   "metadata": {},
   "outputs": [
    {
     "data": {
      "text/plain": [
       "(50, 7)"
      ]
     },
     "execution_count": 5,
     "metadata": {},
     "output_type": "execute_result"
    }
   ],
   "source": [
    "customers_df.shape"
   ]
  },
  {
   "cell_type": "code",
   "execution_count": 6,
   "id": "c372f9ef",
   "metadata": {},
   "outputs": [
    {
     "data": {
      "text/html": [
       "<div>\n",
       "<style scoped>\n",
       "    .dataframe tbody tr th:only-of-type {\n",
       "        vertical-align: middle;\n",
       "    }\n",
       "\n",
       "    .dataframe tbody tr th {\n",
       "        vertical-align: top;\n",
       "    }\n",
       "\n",
       "    .dataframe thead th {\n",
       "        text-align: right;\n",
       "    }\n",
       "</style>\n",
       "<table border=\"1\" class=\"dataframe\">\n",
       "  <thead>\n",
       "    <tr style=\"text-align: right;\">\n",
       "      <th></th>\n",
       "      <th>customer_id</th>\n",
       "      <th>customer_name</th>\n",
       "      <th>email</th>\n",
       "      <th>phone</th>\n",
       "      <th>address</th>\n",
       "      <th>city</th>\n",
       "      <th>country</th>\n",
       "    </tr>\n",
       "  </thead>\n",
       "  <tbody>\n",
       "    <tr>\n",
       "      <th>0</th>\n",
       "      <td>1</td>\n",
       "      <td>Monica Velasquez</td>\n",
       "      <td>sextonbrian@example.net</td>\n",
       "      <td>(305)248-1660x357</td>\n",
       "      <td>09620 Emily Stream Suite 086, North Jessicasta...</td>\n",
       "      <td>East Ashleyton</td>\n",
       "      <td>Mongolia</td>\n",
       "    </tr>\n",
       "    <tr>\n",
       "      <th>1</th>\n",
       "      <td>2</td>\n",
       "      <td>Keith Mullen</td>\n",
       "      <td>kchandler@example.org</td>\n",
       "      <td>3552157014</td>\n",
       "      <td>83790 Glenn Glens, North Cindy, CO 49498</td>\n",
       "      <td>New Krystalburgh</td>\n",
       "      <td>Algeria</td>\n",
       "    </tr>\n",
       "    <tr>\n",
       "      <th>2</th>\n",
       "      <td>3</td>\n",
       "      <td>Tammy Sanford</td>\n",
       "      <td>xperez@example.com</td>\n",
       "      <td>(873)413-0282x88047</td>\n",
       "      <td>071 Matthew Crescent, Mitchellport, LA 77420</td>\n",
       "      <td>Shannonfurt</td>\n",
       "      <td>Mongolia</td>\n",
       "    </tr>\n",
       "    <tr>\n",
       "      <th>3</th>\n",
       "      <td>4</td>\n",
       "      <td>Maria Weiss</td>\n",
       "      <td>rasmussennancy@example.org</td>\n",
       "      <td>837.216.7653x18414</td>\n",
       "      <td>277 Hunt Ridge, West Lindsaytown, MH 83690</td>\n",
       "      <td>Seanborough</td>\n",
       "      <td>Benin</td>\n",
       "    </tr>\n",
       "    <tr>\n",
       "      <th>4</th>\n",
       "      <td>5</td>\n",
       "      <td>Sophia Parker</td>\n",
       "      <td>sarahwilliams@example.net</td>\n",
       "      <td>001-802-656-9088</td>\n",
       "      <td>1337 Sarah Club Suite 958, Michaelstad, WV 95325</td>\n",
       "      <td>North Anna</td>\n",
       "      <td>United States of America</td>\n",
       "    </tr>\n",
       "  </tbody>\n",
       "</table>\n",
       "</div>"
      ],
      "text/plain": [
       "   customer_id     customer_name                       email  \\\n",
       "0            1  Monica Velasquez     sextonbrian@example.net   \n",
       "1            2      Keith Mullen       kchandler@example.org   \n",
       "2            3     Tammy Sanford          xperez@example.com   \n",
       "3            4       Maria Weiss  rasmussennancy@example.org   \n",
       "4            5     Sophia Parker   sarahwilliams@example.net   \n",
       "\n",
       "                 phone                                            address  \\\n",
       "0    (305)248-1660x357  09620 Emily Stream Suite 086, North Jessicasta...   \n",
       "1           3552157014           83790 Glenn Glens, North Cindy, CO 49498   \n",
       "2  (873)413-0282x88047       071 Matthew Crescent, Mitchellport, LA 77420   \n",
       "3   837.216.7653x18414         277 Hunt Ridge, West Lindsaytown, MH 83690   \n",
       "4     001-802-656-9088   1337 Sarah Club Suite 958, Michaelstad, WV 95325   \n",
       "\n",
       "               city                   country  \n",
       "0    East Ashleyton                  Mongolia  \n",
       "1  New Krystalburgh                   Algeria  \n",
       "2       Shannonfurt                  Mongolia  \n",
       "3       Seanborough                     Benin  \n",
       "4        North Anna  United States of America  "
      ]
     },
     "execution_count": 6,
     "metadata": {},
     "output_type": "execute_result"
    }
   ],
   "source": [
    "customers_df.head()"
   ]
  },
  {
   "cell_type": "code",
   "execution_count": 7,
   "id": "d436cd5f",
   "metadata": {},
   "outputs": [],
   "source": [
    "import pandas as pd\n",
    "\n",
    "customers = pd.read_csv(\"customers_data.csv\")\n",
    "\n",
    "customers = pd.DataFrame(customers)  \n",
    "customers = customers.drop_duplicates() \n",
    "customers = customers.dropna()\n",
    "if 'registration_date' not in customers.columns:\n",
    "    customers['registration_date'] = pd.date_range(start='2022-01-01', periods=len(customers))\n",
    "else:\n",
    "    customers['registration_date'] = pd.Timestamp.today()\n",
    "\n",
    "customers = pd.DataFrame(customers)\n",
    "\n",
    "output_file = \"cleaned_customers.csv\"\n",
    "customers.to_csv(output_file, index=False)"
   ]
  },
  {
   "cell_type": "code",
   "execution_count": 8,
   "id": "654eb7a9",
   "metadata": {},
   "outputs": [
    {
     "data": {
      "text/html": [
       "<div>\n",
       "<style scoped>\n",
       "    .dataframe tbody tr th:only-of-type {\n",
       "        vertical-align: middle;\n",
       "    }\n",
       "\n",
       "    .dataframe tbody tr th {\n",
       "        vertical-align: top;\n",
       "    }\n",
       "\n",
       "    .dataframe thead th {\n",
       "        text-align: right;\n",
       "    }\n",
       "</style>\n",
       "<table border=\"1\" class=\"dataframe\">\n",
       "  <thead>\n",
       "    <tr style=\"text-align: right;\">\n",
       "      <th></th>\n",
       "      <th>customer_id</th>\n",
       "      <th>customer_name</th>\n",
       "      <th>email</th>\n",
       "      <th>phone</th>\n",
       "      <th>address</th>\n",
       "      <th>city</th>\n",
       "      <th>country</th>\n",
       "      <th>registration_date</th>\n",
       "    </tr>\n",
       "  </thead>\n",
       "  <tbody>\n",
       "    <tr>\n",
       "      <th>0</th>\n",
       "      <td>1</td>\n",
       "      <td>Monica Velasquez</td>\n",
       "      <td>sextonbrian@example.net</td>\n",
       "      <td>(305)248-1660x357</td>\n",
       "      <td>09620 Emily Stream Suite 086, North Jessicasta...</td>\n",
       "      <td>East Ashleyton</td>\n",
       "      <td>Mongolia</td>\n",
       "      <td>2022-01-01</td>\n",
       "    </tr>\n",
       "    <tr>\n",
       "      <th>1</th>\n",
       "      <td>2</td>\n",
       "      <td>Keith Mullen</td>\n",
       "      <td>kchandler@example.org</td>\n",
       "      <td>3552157014</td>\n",
       "      <td>83790 Glenn Glens, North Cindy, CO 49498</td>\n",
       "      <td>New Krystalburgh</td>\n",
       "      <td>Algeria</td>\n",
       "      <td>2022-01-02</td>\n",
       "    </tr>\n",
       "    <tr>\n",
       "      <th>2</th>\n",
       "      <td>3</td>\n",
       "      <td>Tammy Sanford</td>\n",
       "      <td>xperez@example.com</td>\n",
       "      <td>(873)413-0282x88047</td>\n",
       "      <td>071 Matthew Crescent, Mitchellport, LA 77420</td>\n",
       "      <td>Shannonfurt</td>\n",
       "      <td>Mongolia</td>\n",
       "      <td>2022-01-03</td>\n",
       "    </tr>\n",
       "    <tr>\n",
       "      <th>3</th>\n",
       "      <td>4</td>\n",
       "      <td>Maria Weiss</td>\n",
       "      <td>rasmussennancy@example.org</td>\n",
       "      <td>837.216.7653x18414</td>\n",
       "      <td>277 Hunt Ridge, West Lindsaytown, MH 83690</td>\n",
       "      <td>Seanborough</td>\n",
       "      <td>Benin</td>\n",
       "      <td>2022-01-04</td>\n",
       "    </tr>\n",
       "    <tr>\n",
       "      <th>4</th>\n",
       "      <td>5</td>\n",
       "      <td>Sophia Parker</td>\n",
       "      <td>sarahwilliams@example.net</td>\n",
       "      <td>001-802-656-9088</td>\n",
       "      <td>1337 Sarah Club Suite 958, Michaelstad, WV 95325</td>\n",
       "      <td>North Anna</td>\n",
       "      <td>United States of America</td>\n",
       "      <td>2022-01-05</td>\n",
       "    </tr>\n",
       "  </tbody>\n",
       "</table>\n",
       "</div>"
      ],
      "text/plain": [
       "   customer_id     customer_name                       email  \\\n",
       "0            1  Monica Velasquez     sextonbrian@example.net   \n",
       "1            2      Keith Mullen       kchandler@example.org   \n",
       "2            3     Tammy Sanford          xperez@example.com   \n",
       "3            4       Maria Weiss  rasmussennancy@example.org   \n",
       "4            5     Sophia Parker   sarahwilliams@example.net   \n",
       "\n",
       "                 phone                                            address  \\\n",
       "0    (305)248-1660x357  09620 Emily Stream Suite 086, North Jessicasta...   \n",
       "1           3552157014           83790 Glenn Glens, North Cindy, CO 49498   \n",
       "2  (873)413-0282x88047       071 Matthew Crescent, Mitchellport, LA 77420   \n",
       "3   837.216.7653x18414         277 Hunt Ridge, West Lindsaytown, MH 83690   \n",
       "4     001-802-656-9088   1337 Sarah Club Suite 958, Michaelstad, WV 95325   \n",
       "\n",
       "               city                   country registration_date  \n",
       "0    East Ashleyton                  Mongolia        2022-01-01  \n",
       "1  New Krystalburgh                   Algeria        2022-01-02  \n",
       "2       Shannonfurt                  Mongolia        2022-01-03  \n",
       "3       Seanborough                     Benin        2022-01-04  \n",
       "4        North Anna  United States of America        2022-01-05  "
      ]
     },
     "execution_count": 8,
     "metadata": {},
     "output_type": "execute_result"
    }
   ],
   "source": [
    "customers.head()"
   ]
  },
  {
   "cell_type": "code",
   "execution_count": 9,
   "id": "f555c7db",
   "metadata": {},
   "outputs": [
    {
     "name": "stdout",
     "output_type": "stream",
     "text": [
      "Data transformed and saved successfully to cleaned_customers.csv!\n"
     ]
    }
   ],
   "source": [
    "print(f\"Data transformed and saved successfully to {output_file}!\")"
   ]
  },
  {
   "cell_type": "markdown",
   "id": "ec507b7a",
   "metadata": {},
   "source": [
    "__________"
   ]
  },
  {
   "cell_type": "markdown",
   "id": "a8def7a2",
   "metadata": {},
   "source": [
    "### <font color=\"blue\">2 - products_data\n",
    " </font>"
   ]
  },
  {
   "cell_type": "code",
   "execution_count": 10,
   "id": "730e8ab4",
   "metadata": {},
   "outputs": [
    {
     "name": "stdout",
     "output_type": "stream",
     "text": [
      "Index(['product_id', 'product_name', 'category', 'price'], dtype='object')\n"
     ]
    }
   ],
   "source": [
    "print(products_df.columns)"
   ]
  },
  {
   "cell_type": "code",
   "execution_count": 11,
   "id": "8818d5ab",
   "metadata": {},
   "outputs": [
    {
     "data": {
      "text/plain": [
       "(50, 4)"
      ]
     },
     "execution_count": 11,
     "metadata": {},
     "output_type": "execute_result"
    }
   ],
   "source": [
    "products_df.shape"
   ]
  },
  {
   "cell_type": "code",
   "execution_count": 12,
   "id": "6d900d40",
   "metadata": {},
   "outputs": [
    {
     "data": {
      "text/html": [
       "<div>\n",
       "<style scoped>\n",
       "    .dataframe tbody tr th:only-of-type {\n",
       "        vertical-align: middle;\n",
       "    }\n",
       "\n",
       "    .dataframe tbody tr th {\n",
       "        vertical-align: top;\n",
       "    }\n",
       "\n",
       "    .dataframe thead th {\n",
       "        text-align: right;\n",
       "    }\n",
       "</style>\n",
       "<table border=\"1\" class=\"dataframe\">\n",
       "  <thead>\n",
       "    <tr style=\"text-align: right;\">\n",
       "      <th></th>\n",
       "      <th>product_id</th>\n",
       "      <th>product_name</th>\n",
       "      <th>category</th>\n",
       "      <th>price</th>\n",
       "    </tr>\n",
       "  </thead>\n",
       "  <tbody>\n",
       "    <tr>\n",
       "      <th>0</th>\n",
       "      <td>1</td>\n",
       "      <td>Way Degree</td>\n",
       "      <td>Clothing</td>\n",
       "      <td>318.36</td>\n",
       "    </tr>\n",
       "    <tr>\n",
       "      <th>1</th>\n",
       "      <td>2</td>\n",
       "      <td>Language Cut</td>\n",
       "      <td>Home Appliances</td>\n",
       "      <td>221.96</td>\n",
       "    </tr>\n",
       "    <tr>\n",
       "      <th>2</th>\n",
       "      <td>3</td>\n",
       "      <td>Actually Single</td>\n",
       "      <td>Books</td>\n",
       "      <td>97.69</td>\n",
       "    </tr>\n",
       "    <tr>\n",
       "      <th>3</th>\n",
       "      <td>4</td>\n",
       "      <td>Specific Customer</td>\n",
       "      <td>Books</td>\n",
       "      <td>456.60</td>\n",
       "    </tr>\n",
       "    <tr>\n",
       "      <th>4</th>\n",
       "      <td>5</td>\n",
       "      <td>Item Control</td>\n",
       "      <td>Books</td>\n",
       "      <td>54.28</td>\n",
       "    </tr>\n",
       "  </tbody>\n",
       "</table>\n",
       "</div>"
      ],
      "text/plain": [
       "   product_id       product_name         category   price\n",
       "0           1         Way Degree         Clothing  318.36\n",
       "1           2       Language Cut  Home Appliances  221.96\n",
       "2           3    Actually Single            Books   97.69\n",
       "3           4  Specific Customer            Books  456.60\n",
       "4           5       Item Control            Books   54.28"
      ]
     },
     "execution_count": 12,
     "metadata": {},
     "output_type": "execute_result"
    }
   ],
   "source": [
    "products_df.head()"
   ]
  },
  {
   "cell_type": "code",
   "execution_count": 13,
   "id": "5d6ed82f",
   "metadata": {},
   "outputs": [
    {
     "name": "stdout",
     "output_type": "stream",
     "text": [
      "\n",
      "Cleaned Products Data\n",
      "\n",
      "Products data transformed and saved successfully to cleaned_products.csv!\n"
     ]
    }
   ],
   "source": [
    "import pandas as pd\n",
    "\n",
    "products = pd.read_csv(\"products_data.csv\")\n",
    "\n",
    "products = pd.DataFrame(products)  \n",
    "products = products.drop_duplicates()  \n",
    "products = products.dropna() \n",
    "products['product_id'] = products['product_id'].astype(int)\n",
    "\n",
    "products['price'] = products['price'].astype(float)\n",
    "\n",
    "print(\"\\nCleaned Products Data\")\n",
    "\n",
    "output_file = \"cleaned_products.csv\"\n",
    "products.to_csv(output_file, index=False)\n",
    "\n",
    "print(f\"\\nProducts data transformed and saved successfully to {output_file}!\")\n"
   ]
  },
  {
   "cell_type": "markdown",
   "id": "d3314a87",
   "metadata": {},
   "source": [
    "__________"
   ]
  },
  {
   "cell_type": "markdown",
   "id": "cf78ffce",
   "metadata": {},
   "source": [
    "### <font color=\"blue\">3 - sales_data </font>"
   ]
  },
  {
   "cell_type": "code",
   "execution_count": 14,
   "id": "5996d119",
   "metadata": {},
   "outputs": [
    {
     "name": "stdout",
     "output_type": "stream",
     "text": [
      "Index(['sale_id', 'customer_id', 'product_id', 'quantity', 'total_price',\n",
      "       'sale_date'],\n",
      "      dtype='object')\n"
     ]
    }
   ],
   "source": [
    "print(sales_df.columns)"
   ]
  },
  {
   "cell_type": "code",
   "execution_count": 15,
   "id": "ae6ba27e",
   "metadata": {},
   "outputs": [
    {
     "data": {
      "text/plain": [
       "(50, 6)"
      ]
     },
     "execution_count": 15,
     "metadata": {},
     "output_type": "execute_result"
    }
   ],
   "source": [
    "sales_df.shape"
   ]
  },
  {
   "cell_type": "code",
   "execution_count": 16,
   "id": "04b66005",
   "metadata": {},
   "outputs": [
    {
     "data": {
      "text/html": [
       "<div>\n",
       "<style scoped>\n",
       "    .dataframe tbody tr th:only-of-type {\n",
       "        vertical-align: middle;\n",
       "    }\n",
       "\n",
       "    .dataframe tbody tr th {\n",
       "        vertical-align: top;\n",
       "    }\n",
       "\n",
       "    .dataframe thead th {\n",
       "        text-align: right;\n",
       "    }\n",
       "</style>\n",
       "<table border=\"1\" class=\"dataframe\">\n",
       "  <thead>\n",
       "    <tr style=\"text-align: right;\">\n",
       "      <th></th>\n",
       "      <th>sale_id</th>\n",
       "      <th>customer_id</th>\n",
       "      <th>product_id</th>\n",
       "      <th>quantity</th>\n",
       "      <th>total_price</th>\n",
       "      <th>sale_date</th>\n",
       "    </tr>\n",
       "  </thead>\n",
       "  <tbody>\n",
       "    <tr>\n",
       "      <th>0</th>\n",
       "      <td>1</td>\n",
       "      <td>10</td>\n",
       "      <td>17</td>\n",
       "      <td>6</td>\n",
       "      <td>888.42</td>\n",
       "      <td>2025-01-03</td>\n",
       "    </tr>\n",
       "    <tr>\n",
       "      <th>1</th>\n",
       "      <td>2</td>\n",
       "      <td>5</td>\n",
       "      <td>1</td>\n",
       "      <td>2</td>\n",
       "      <td>636.72</td>\n",
       "      <td>2025-01-11</td>\n",
       "    </tr>\n",
       "    <tr>\n",
       "      <th>2</th>\n",
       "      <td>3</td>\n",
       "      <td>5</td>\n",
       "      <td>40</td>\n",
       "      <td>4</td>\n",
       "      <td>1207.28</td>\n",
       "      <td>2025-01-07</td>\n",
       "    </tr>\n",
       "    <tr>\n",
       "      <th>3</th>\n",
       "      <td>4</td>\n",
       "      <td>49</td>\n",
       "      <td>47</td>\n",
       "      <td>3</td>\n",
       "      <td>1342.41</td>\n",
       "      <td>2025-01-27</td>\n",
       "    </tr>\n",
       "    <tr>\n",
       "      <th>4</th>\n",
       "      <td>5</td>\n",
       "      <td>18</td>\n",
       "      <td>5</td>\n",
       "      <td>6</td>\n",
       "      <td>325.68</td>\n",
       "      <td>2025-01-15</td>\n",
       "    </tr>\n",
       "  </tbody>\n",
       "</table>\n",
       "</div>"
      ],
      "text/plain": [
       "   sale_id  customer_id  product_id  quantity  total_price   sale_date\n",
       "0        1           10          17         6       888.42  2025-01-03\n",
       "1        2            5           1         2       636.72  2025-01-11\n",
       "2        3            5          40         4      1207.28  2025-01-07\n",
       "3        4           49          47         3      1342.41  2025-01-27\n",
       "4        5           18           5         6       325.68  2025-01-15"
      ]
     },
     "execution_count": 16,
     "metadata": {},
     "output_type": "execute_result"
    }
   ],
   "source": [
    "sales_df.head()"
   ]
  },
  {
   "cell_type": "code",
   "execution_count": 17,
   "id": "22f8a449",
   "metadata": {},
   "outputs": [
    {
     "name": "stdout",
     "output_type": "stream",
     "text": [
      "\n",
      "Cleaned Sales Data (First 10 rows):\n",
      "\n",
      "\n",
      "Sales data transformed and saved successfully to cleaned_sales.csv!\n"
     ]
    }
   ],
   "source": [
    "import pandas as pd\n",
    "\n",
    "sales = pd.read_csv(\"sales_data.csv\")\n",
    "\n",
    "sales = pd.DataFrame(sales)  \n",
    "sales = sales.drop_duplicates()  \n",
    "sales = sales.dropna()  \n",
    "sales['sale_date'] = pd.to_datetime(sales['sale_date'], errors='coerce')\n",
    "\n",
    "sales['sale_price'] = sales['total_price'] / sales['quantity']\n",
    "\n",
    "sales['product_id'] = sales['product_id'].astype(int)\n",
    "sales['customer_id'] = sales['customer_id'].astype(int)\n",
    "\n",
    "print(\"\\nCleaned Sales Data (First 10 rows):\\n\")\n",
    "output_file = \"cleaned_sales.csv\"\n",
    "sales.to_csv(output_file, index=False)\n",
    "\n",
    "print(f\"\\nSales data transformed and saved successfully to {output_file}!\")\n"
   ]
  },
  {
   "cell_type": "code",
   "execution_count": 18,
   "id": "271d79f9",
   "metadata": {},
   "outputs": [
    {
     "data": {
      "text/html": [
       "<div>\n",
       "<style scoped>\n",
       "    .dataframe tbody tr th:only-of-type {\n",
       "        vertical-align: middle;\n",
       "    }\n",
       "\n",
       "    .dataframe tbody tr th {\n",
       "        vertical-align: top;\n",
       "    }\n",
       "\n",
       "    .dataframe thead th {\n",
       "        text-align: right;\n",
       "    }\n",
       "</style>\n",
       "<table border=\"1\" class=\"dataframe\">\n",
       "  <thead>\n",
       "    <tr style=\"text-align: right;\">\n",
       "      <th></th>\n",
       "      <th>sale_id</th>\n",
       "      <th>customer_id</th>\n",
       "      <th>product_id</th>\n",
       "      <th>quantity</th>\n",
       "      <th>total_price</th>\n",
       "      <th>sale_date</th>\n",
       "      <th>sale_price</th>\n",
       "    </tr>\n",
       "  </thead>\n",
       "  <tbody>\n",
       "    <tr>\n",
       "      <th>0</th>\n",
       "      <td>1</td>\n",
       "      <td>10</td>\n",
       "      <td>17</td>\n",
       "      <td>6</td>\n",
       "      <td>888.42</td>\n",
       "      <td>2025-01-03</td>\n",
       "      <td>148.07</td>\n",
       "    </tr>\n",
       "    <tr>\n",
       "      <th>1</th>\n",
       "      <td>2</td>\n",
       "      <td>5</td>\n",
       "      <td>1</td>\n",
       "      <td>2</td>\n",
       "      <td>636.72</td>\n",
       "      <td>2025-01-11</td>\n",
       "      <td>318.36</td>\n",
       "    </tr>\n",
       "    <tr>\n",
       "      <th>2</th>\n",
       "      <td>3</td>\n",
       "      <td>5</td>\n",
       "      <td>40</td>\n",
       "      <td>4</td>\n",
       "      <td>1207.28</td>\n",
       "      <td>2025-01-07</td>\n",
       "      <td>301.82</td>\n",
       "    </tr>\n",
       "    <tr>\n",
       "      <th>3</th>\n",
       "      <td>4</td>\n",
       "      <td>49</td>\n",
       "      <td>47</td>\n",
       "      <td>3</td>\n",
       "      <td>1342.41</td>\n",
       "      <td>2025-01-27</td>\n",
       "      <td>447.47</td>\n",
       "    </tr>\n",
       "    <tr>\n",
       "      <th>4</th>\n",
       "      <td>5</td>\n",
       "      <td>18</td>\n",
       "      <td>5</td>\n",
       "      <td>6</td>\n",
       "      <td>325.68</td>\n",
       "      <td>2025-01-15</td>\n",
       "      <td>54.28</td>\n",
       "    </tr>\n",
       "    <tr>\n",
       "      <th>5</th>\n",
       "      <td>6</td>\n",
       "      <td>39</td>\n",
       "      <td>36</td>\n",
       "      <td>1</td>\n",
       "      <td>303.16</td>\n",
       "      <td>2025-01-24</td>\n",
       "      <td>303.16</td>\n",
       "    </tr>\n",
       "    <tr>\n",
       "      <th>6</th>\n",
       "      <td>7</td>\n",
       "      <td>16</td>\n",
       "      <td>7</td>\n",
       "      <td>10</td>\n",
       "      <td>2655.80</td>\n",
       "      <td>2025-01-16</td>\n",
       "      <td>265.58</td>\n",
       "    </tr>\n",
       "    <tr>\n",
       "      <th>7</th>\n",
       "      <td>8</td>\n",
       "      <td>5</td>\n",
       "      <td>43</td>\n",
       "      <td>10</td>\n",
       "      <td>2733.10</td>\n",
       "      <td>2025-01-19</td>\n",
       "      <td>273.31</td>\n",
       "    </tr>\n",
       "    <tr>\n",
       "      <th>8</th>\n",
       "      <td>9</td>\n",
       "      <td>30</td>\n",
       "      <td>26</td>\n",
       "      <td>1</td>\n",
       "      <td>25.77</td>\n",
       "      <td>2025-01-14</td>\n",
       "      <td>25.77</td>\n",
       "    </tr>\n",
       "    <tr>\n",
       "      <th>9</th>\n",
       "      <td>10</td>\n",
       "      <td>3</td>\n",
       "      <td>1</td>\n",
       "      <td>5</td>\n",
       "      <td>1591.80</td>\n",
       "      <td>2025-01-22</td>\n",
       "      <td>318.36</td>\n",
       "    </tr>\n",
       "  </tbody>\n",
       "</table>\n",
       "</div>"
      ],
      "text/plain": [
       "   sale_id  customer_id  product_id  quantity  total_price  sale_date  \\\n",
       "0        1           10          17         6       888.42 2025-01-03   \n",
       "1        2            5           1         2       636.72 2025-01-11   \n",
       "2        3            5          40         4      1207.28 2025-01-07   \n",
       "3        4           49          47         3      1342.41 2025-01-27   \n",
       "4        5           18           5         6       325.68 2025-01-15   \n",
       "5        6           39          36         1       303.16 2025-01-24   \n",
       "6        7           16           7        10      2655.80 2025-01-16   \n",
       "7        8            5          43        10      2733.10 2025-01-19   \n",
       "8        9           30          26         1        25.77 2025-01-14   \n",
       "9       10            3           1         5      1591.80 2025-01-22   \n",
       "\n",
       "   sale_price  \n",
       "0      148.07  \n",
       "1      318.36  \n",
       "2      301.82  \n",
       "3      447.47  \n",
       "4       54.28  \n",
       "5      303.16  \n",
       "6      265.58  \n",
       "7      273.31  \n",
       "8       25.77  \n",
       "9      318.36  "
      ]
     },
     "execution_count": 18,
     "metadata": {},
     "output_type": "execute_result"
    }
   ],
   "source": [
    "sales.head(10)"
   ]
  },
  {
   "cell_type": "markdown",
   "id": "23fa8bcd",
   "metadata": {},
   "source": [
    "___________"
   ]
  },
  {
   "cell_type": "markdown",
   "id": "219a42fe",
   "metadata": {},
   "source": [
    "# <font color=\"orange\">Data Integration (Customers + Sales + Products)</font>\n"
   ]
  },
  {
   "cell_type": "code",
   "execution_count": 19,
   "id": "0afd4b3a",
   "metadata": {},
   "outputs": [
    {
     "name": "stdout",
     "output_type": "stream",
     "text": [
      "Data Integration and saved successfully!\n"
     ]
    }
   ],
   "source": [
    "sales_products = pd.merge(sales, products, on='product_id', how='inner')\n",
    "\n",
    "final_data = pd.merge(sales_products, customers, on='customer_id', how='inner')\n",
    "\n",
    "final_data.to_csv(\"final_transformed_data.csv\", index=False)\n",
    "print(\"Data Integration and saved successfully!\")\n"
   ]
  },
  {
   "cell_type": "code",
   "execution_count": 20,
   "id": "d631e3e5",
   "metadata": {},
   "outputs": [
    {
     "data": {
      "text/plain": [
       "(50, 17)"
      ]
     },
     "execution_count": 20,
     "metadata": {},
     "output_type": "execute_result"
    }
   ],
   "source": [
    "final_data.shape"
   ]
  },
  {
   "cell_type": "code",
   "execution_count": 21,
   "id": "f435776c",
   "metadata": {
    "scrolled": false
   },
   "outputs": [
    {
     "data": {
      "text/html": [
       "<div>\n",
       "<style scoped>\n",
       "    .dataframe tbody tr th:only-of-type {\n",
       "        vertical-align: middle;\n",
       "    }\n",
       "\n",
       "    .dataframe tbody tr th {\n",
       "        vertical-align: top;\n",
       "    }\n",
       "\n",
       "    .dataframe thead th {\n",
       "        text-align: right;\n",
       "    }\n",
       "</style>\n",
       "<table border=\"1\" class=\"dataframe\">\n",
       "  <thead>\n",
       "    <tr style=\"text-align: right;\">\n",
       "      <th></th>\n",
       "      <th>sale_id</th>\n",
       "      <th>customer_id</th>\n",
       "      <th>product_id</th>\n",
       "      <th>quantity</th>\n",
       "      <th>total_price</th>\n",
       "      <th>sale_date</th>\n",
       "      <th>sale_price</th>\n",
       "      <th>product_name</th>\n",
       "      <th>category</th>\n",
       "      <th>price</th>\n",
       "      <th>customer_name</th>\n",
       "      <th>email</th>\n",
       "      <th>phone</th>\n",
       "      <th>address</th>\n",
       "      <th>city</th>\n",
       "      <th>country</th>\n",
       "      <th>registration_date</th>\n",
       "    </tr>\n",
       "  </thead>\n",
       "  <tbody>\n",
       "    <tr>\n",
       "      <th>0</th>\n",
       "      <td>1</td>\n",
       "      <td>10</td>\n",
       "      <td>17</td>\n",
       "      <td>6</td>\n",
       "      <td>888.42</td>\n",
       "      <td>2025-01-03</td>\n",
       "      <td>148.07</td>\n",
       "      <td>Fire Per</td>\n",
       "      <td>Clothing</td>\n",
       "      <td>148.07</td>\n",
       "      <td>William Berg</td>\n",
       "      <td>katie05@example.com</td>\n",
       "      <td>+1-922-318-7823x9056</td>\n",
       "      <td>USNS Duncan, FPO AP 16042</td>\n",
       "      <td>Port Rebeccaport</td>\n",
       "      <td>Nigeria</td>\n",
       "      <td>2022-01-10</td>\n",
       "    </tr>\n",
       "    <tr>\n",
       "      <th>1</th>\n",
       "      <td>2</td>\n",
       "      <td>5</td>\n",
       "      <td>1</td>\n",
       "      <td>2</td>\n",
       "      <td>636.72</td>\n",
       "      <td>2025-01-11</td>\n",
       "      <td>318.36</td>\n",
       "      <td>Way Degree</td>\n",
       "      <td>Clothing</td>\n",
       "      <td>318.36</td>\n",
       "      <td>Sophia Parker</td>\n",
       "      <td>sarahwilliams@example.net</td>\n",
       "      <td>001-802-656-9088</td>\n",
       "      <td>1337 Sarah Club Suite 958, Michaelstad, WV 95325</td>\n",
       "      <td>North Anna</td>\n",
       "      <td>United States of America</td>\n",
       "      <td>2022-01-05</td>\n",
       "    </tr>\n",
       "    <tr>\n",
       "      <th>2</th>\n",
       "      <td>3</td>\n",
       "      <td>5</td>\n",
       "      <td>40</td>\n",
       "      <td>4</td>\n",
       "      <td>1207.28</td>\n",
       "      <td>2025-01-07</td>\n",
       "      <td>301.82</td>\n",
       "      <td>Of Position</td>\n",
       "      <td>Clothing</td>\n",
       "      <td>301.82</td>\n",
       "      <td>Sophia Parker</td>\n",
       "      <td>sarahwilliams@example.net</td>\n",
       "      <td>001-802-656-9088</td>\n",
       "      <td>1337 Sarah Club Suite 958, Michaelstad, WV 95325</td>\n",
       "      <td>North Anna</td>\n",
       "      <td>United States of America</td>\n",
       "      <td>2022-01-05</td>\n",
       "    </tr>\n",
       "    <tr>\n",
       "      <th>3</th>\n",
       "      <td>8</td>\n",
       "      <td>5</td>\n",
       "      <td>43</td>\n",
       "      <td>10</td>\n",
       "      <td>2733.10</td>\n",
       "      <td>2025-01-19</td>\n",
       "      <td>273.31</td>\n",
       "      <td>Able Democrat</td>\n",
       "      <td>Electronics</td>\n",
       "      <td>273.31</td>\n",
       "      <td>Sophia Parker</td>\n",
       "      <td>sarahwilliams@example.net</td>\n",
       "      <td>001-802-656-9088</td>\n",
       "      <td>1337 Sarah Club Suite 958, Michaelstad, WV 95325</td>\n",
       "      <td>North Anna</td>\n",
       "      <td>United States of America</td>\n",
       "      <td>2022-01-05</td>\n",
       "    </tr>\n",
       "    <tr>\n",
       "      <th>4</th>\n",
       "      <td>36</td>\n",
       "      <td>5</td>\n",
       "      <td>18</td>\n",
       "      <td>7</td>\n",
       "      <td>2863.07</td>\n",
       "      <td>2025-01-11</td>\n",
       "      <td>409.01</td>\n",
       "      <td>Deal Look</td>\n",
       "      <td>Books</td>\n",
       "      <td>409.01</td>\n",
       "      <td>Sophia Parker</td>\n",
       "      <td>sarahwilliams@example.net</td>\n",
       "      <td>001-802-656-9088</td>\n",
       "      <td>1337 Sarah Club Suite 958, Michaelstad, WV 95325</td>\n",
       "      <td>North Anna</td>\n",
       "      <td>United States of America</td>\n",
       "      <td>2022-01-05</td>\n",
       "    </tr>\n",
       "    <tr>\n",
       "      <th>5</th>\n",
       "      <td>10</td>\n",
       "      <td>3</td>\n",
       "      <td>1</td>\n",
       "      <td>5</td>\n",
       "      <td>1591.80</td>\n",
       "      <td>2025-01-22</td>\n",
       "      <td>318.36</td>\n",
       "      <td>Way Degree</td>\n",
       "      <td>Clothing</td>\n",
       "      <td>318.36</td>\n",
       "      <td>Tammy Sanford</td>\n",
       "      <td>xperez@example.com</td>\n",
       "      <td>(873)413-0282x88047</td>\n",
       "      <td>071 Matthew Crescent, Mitchellport, LA 77420</td>\n",
       "      <td>Shannonfurt</td>\n",
       "      <td>Mongolia</td>\n",
       "      <td>2022-01-03</td>\n",
       "    </tr>\n",
       "    <tr>\n",
       "      <th>6</th>\n",
       "      <td>48</td>\n",
       "      <td>3</td>\n",
       "      <td>41</td>\n",
       "      <td>7</td>\n",
       "      <td>875.42</td>\n",
       "      <td>2025-01-07</td>\n",
       "      <td>125.06</td>\n",
       "      <td>Artist Catch</td>\n",
       "      <td>Clothing</td>\n",
       "      <td>125.06</td>\n",
       "      <td>Tammy Sanford</td>\n",
       "      <td>xperez@example.com</td>\n",
       "      <td>(873)413-0282x88047</td>\n",
       "      <td>071 Matthew Crescent, Mitchellport, LA 77420</td>\n",
       "      <td>Shannonfurt</td>\n",
       "      <td>Mongolia</td>\n",
       "      <td>2022-01-03</td>\n",
       "    </tr>\n",
       "    <tr>\n",
       "      <th>7</th>\n",
       "      <td>17</td>\n",
       "      <td>45</td>\n",
       "      <td>1</td>\n",
       "      <td>3</td>\n",
       "      <td>955.08</td>\n",
       "      <td>2025-01-22</td>\n",
       "      <td>318.36</td>\n",
       "      <td>Way Degree</td>\n",
       "      <td>Clothing</td>\n",
       "      <td>318.36</td>\n",
       "      <td>Robert Simon</td>\n",
       "      <td>joseph46@example.net</td>\n",
       "      <td>769.482.3999x602</td>\n",
       "      <td>Unit 4632 Box 4185, DPO AA 90570</td>\n",
       "      <td>Onealland</td>\n",
       "      <td>Jamaica</td>\n",
       "      <td>2022-02-14</td>\n",
       "    </tr>\n",
       "    <tr>\n",
       "      <th>8</th>\n",
       "      <td>12</td>\n",
       "      <td>45</td>\n",
       "      <td>11</td>\n",
       "      <td>5</td>\n",
       "      <td>1519.10</td>\n",
       "      <td>2025-01-24</td>\n",
       "      <td>303.82</td>\n",
       "      <td>Past Understand</td>\n",
       "      <td>Electronics</td>\n",
       "      <td>303.82</td>\n",
       "      <td>Robert Simon</td>\n",
       "      <td>joseph46@example.net</td>\n",
       "      <td>769.482.3999x602</td>\n",
       "      <td>Unit 4632 Box 4185, DPO AA 90570</td>\n",
       "      <td>Onealland</td>\n",
       "      <td>Jamaica</td>\n",
       "      <td>2022-02-14</td>\n",
       "    </tr>\n",
       "    <tr>\n",
       "      <th>9</th>\n",
       "      <td>37</td>\n",
       "      <td>45</td>\n",
       "      <td>30</td>\n",
       "      <td>3</td>\n",
       "      <td>1157.19</td>\n",
       "      <td>2025-01-10</td>\n",
       "      <td>385.73</td>\n",
       "      <td>Condition Use</td>\n",
       "      <td>Home Appliances</td>\n",
       "      <td>385.73</td>\n",
       "      <td>Robert Simon</td>\n",
       "      <td>joseph46@example.net</td>\n",
       "      <td>769.482.3999x602</td>\n",
       "      <td>Unit 4632 Box 4185, DPO AA 90570</td>\n",
       "      <td>Onealland</td>\n",
       "      <td>Jamaica</td>\n",
       "      <td>2022-02-14</td>\n",
       "    </tr>\n",
       "  </tbody>\n",
       "</table>\n",
       "</div>"
      ],
      "text/plain": [
       "   sale_id  customer_id  product_id  quantity  total_price  sale_date  \\\n",
       "0        1           10          17         6       888.42 2025-01-03   \n",
       "1        2            5           1         2       636.72 2025-01-11   \n",
       "2        3            5          40         4      1207.28 2025-01-07   \n",
       "3        8            5          43        10      2733.10 2025-01-19   \n",
       "4       36            5          18         7      2863.07 2025-01-11   \n",
       "5       10            3           1         5      1591.80 2025-01-22   \n",
       "6       48            3          41         7       875.42 2025-01-07   \n",
       "7       17           45           1         3       955.08 2025-01-22   \n",
       "8       12           45          11         5      1519.10 2025-01-24   \n",
       "9       37           45          30         3      1157.19 2025-01-10   \n",
       "\n",
       "   sale_price     product_name         category   price  customer_name  \\\n",
       "0      148.07         Fire Per         Clothing  148.07   William Berg   \n",
       "1      318.36       Way Degree         Clothing  318.36  Sophia Parker   \n",
       "2      301.82      Of Position         Clothing  301.82  Sophia Parker   \n",
       "3      273.31    Able Democrat      Electronics  273.31  Sophia Parker   \n",
       "4      409.01        Deal Look            Books  409.01  Sophia Parker   \n",
       "5      318.36       Way Degree         Clothing  318.36  Tammy Sanford   \n",
       "6      125.06     Artist Catch         Clothing  125.06  Tammy Sanford   \n",
       "7      318.36       Way Degree         Clothing  318.36   Robert Simon   \n",
       "8      303.82  Past Understand      Electronics  303.82   Robert Simon   \n",
       "9      385.73    Condition Use  Home Appliances  385.73   Robert Simon   \n",
       "\n",
       "                       email                 phone  \\\n",
       "0        katie05@example.com  +1-922-318-7823x9056   \n",
       "1  sarahwilliams@example.net      001-802-656-9088   \n",
       "2  sarahwilliams@example.net      001-802-656-9088   \n",
       "3  sarahwilliams@example.net      001-802-656-9088   \n",
       "4  sarahwilliams@example.net      001-802-656-9088   \n",
       "5         xperez@example.com   (873)413-0282x88047   \n",
       "6         xperez@example.com   (873)413-0282x88047   \n",
       "7       joseph46@example.net      769.482.3999x602   \n",
       "8       joseph46@example.net      769.482.3999x602   \n",
       "9       joseph46@example.net      769.482.3999x602   \n",
       "\n",
       "                                            address              city  \\\n",
       "0                         USNS Duncan, FPO AP 16042  Port Rebeccaport   \n",
       "1  1337 Sarah Club Suite 958, Michaelstad, WV 95325        North Anna   \n",
       "2  1337 Sarah Club Suite 958, Michaelstad, WV 95325        North Anna   \n",
       "3  1337 Sarah Club Suite 958, Michaelstad, WV 95325        North Anna   \n",
       "4  1337 Sarah Club Suite 958, Michaelstad, WV 95325        North Anna   \n",
       "5      071 Matthew Crescent, Mitchellport, LA 77420       Shannonfurt   \n",
       "6      071 Matthew Crescent, Mitchellport, LA 77420       Shannonfurt   \n",
       "7                  Unit 4632 Box 4185, DPO AA 90570         Onealland   \n",
       "8                  Unit 4632 Box 4185, DPO AA 90570         Onealland   \n",
       "9                  Unit 4632 Box 4185, DPO AA 90570         Onealland   \n",
       "\n",
       "                    country registration_date  \n",
       "0                   Nigeria        2022-01-10  \n",
       "1  United States of America        2022-01-05  \n",
       "2  United States of America        2022-01-05  \n",
       "3  United States of America        2022-01-05  \n",
       "4  United States of America        2022-01-05  \n",
       "5                  Mongolia        2022-01-03  \n",
       "6                  Mongolia        2022-01-03  \n",
       "7                   Jamaica        2022-02-14  \n",
       "8                   Jamaica        2022-02-14  \n",
       "9                   Jamaica        2022-02-14  "
      ]
     },
     "execution_count": 21,
     "metadata": {},
     "output_type": "execute_result"
    }
   ],
   "source": [
    "final_data.head(10)"
   ]
  },
  {
   "cell_type": "markdown",
   "id": "b28f27e2",
   "metadata": {},
   "source": [
    "_________________"
   ]
  },
  {
   "cell_type": "markdown",
   "id": "c3410734",
   "metadata": {},
   "source": [
    "# ✔✔"
   ]
  }
 ],
 "metadata": {
  "kernelspec": {
   "display_name": "Python 3",
   "language": "python",
   "name": "python3"
  },
  "language_info": {
   "codemirror_mode": {
    "name": "ipython",
    "version": 3
   },
   "file_extension": ".py",
   "mimetype": "text/x-python",
   "name": "python",
   "nbconvert_exporter": "python",
   "pygments_lexer": "ipython3",
   "version": "3.8.8"
  }
 },
 "nbformat": 4,
 "nbformat_minor": 5
}
